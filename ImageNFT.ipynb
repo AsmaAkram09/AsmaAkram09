{
  "nbformat": 4,
  "nbformat_minor": 0,
  "metadata": {
    "colab": {
      "name": "Untitled5.ipynb",
      "provenance": [],
      "authorship_tag": "ABX9TyOmS4/fWRshoryGbz22Llp+",
      "include_colab_link": true
    },
    "kernelspec": {
      "name": "python3",
      "display_name": "Python 3"
    },
    "language_info": {
      "name": "python"
    }
  },
  "cells": [
    {
      "cell_type": "markdown",
      "metadata": {
        "id": "view-in-github",
        "colab_type": "text"
      },
      "source": [
        "<a href=\"https://colab.research.google.com/github/AsmaAkram09/AsmaAkram09/blob/main/ImageNFT.ipynb\" target=\"_parent\"><img src=\"https://colab.research.google.com/assets/colab-badge.svg\" alt=\"Open In Colab\"/></a>"
      ]
    },
    {
      "cell_type": "code",
      "execution_count": 1,
      "metadata": {
        "id": "urelsA-KHBxX"
      },
      "outputs": [],
      "source": [
        "from PIL import Image\n",
        "import json\n",
        "from IPython.display import display\n",
        "import random\n",
        "import os"
      ]
    },
    {
      "cell_type": "markdown",
      "source": [
        "Each Unique Avatar contains 5 traits:\n",
        "1. Ears\n",
        "2. Nose\n",
        "3. Hair\n",
        "4. Eyes\n",
        "5. Mouth\n",
        "There are 2 types of faces(White and Black). You specify a program to assign that image has 60% chance of Black Face and 40% chance of White Face. "
      ],
      "metadata": {
        "id": "PENr9pauX17j"
      }
    },
    {
      "cell_type": "code",
      "source": [
        "face = [\"Black\", \"White\"]\n",
        "face_weights = [60,40]\n",
        "\n",
        "ears = [\"ears1\", 'ears2', 'ears3', 'ears4']\n",
        "ears_weights = [25, 44, 30, 1]\n",
        "\n",
        "eyes = ['regular', 'small', 'rayban', 'hipster', 'focused']\n",
        "eyes_weights = [70, 10, 5, 1, 14]\n",
        "\n",
        "hair =['hair1', 'hair2', \n",
        "       'hair3', 'hair4', \n",
        "       'hair5','hair6', \n",
        "       'hair7', 'hair8',\n",
        "       'hair9', 'hair10', 'hair11', 'hair12']\n",
        "hair_weights = [10, 10, 10, 10, 10, 10, 10, 10, 10, 1, 7, 2]\n",
        "\n",
        "mouth = ['m1', 'm2', 'm3', 'm4', 'm5', 'm6']\n",
        "mouth_weights = [10, 10, 50, 10, 15, 5]\n",
        "\n",
        "nose =['n1', 'n2']\n",
        "nose_weights =[90,10]"
      ],
      "metadata": {
        "id": "gVSnWJnxa0vG"
      },
      "execution_count": 3,
      "outputs": []
    },
    {
      "cell_type": "markdown",
      "source": [
        "Classify your traits\n",
        "\n",
        "The trait name \"face1\" classified as Black face and trait name \"face2\" classified as White face"
      ],
      "metadata": {
        "id": "AjVsgXeapmz6"
      }
    },
    {
      "cell_type": "code",
      "source": [
        "#Dictionary variable for each trait. \n",
        "# Each trait corresponds to its file name\n",
        "\n",
        "face_files = {\n",
        "    \"Black\": \"face1\",\n",
        "    \"White\": \"face2\"\n",
        "}\n",
        "\n",
        "ears_files = {\n",
        "    \"ears1\": \"ears1\",\n",
        "    \"ears2\": \"ears2\",\n",
        "    \"ears3\": \"ears3\",\n",
        "    \"ears4\": \"ears4\"\n",
        "}\n",
        "\n",
        "eyes_files = {\n",
        "    \"regular\": \"eyes1\",\n",
        "    \"small\": \"eyes2\",\n",
        "    \"rayban\": \"eyes3\",\n",
        "    \"hipster\": \"eyes4\",\n",
        "    \"focused\": \"eyes5\"     \n",
        "}\n",
        "\n",
        "hair_files = {\n",
        "    \"hair1\": \"hair1\",\n",
        "    \"hair2\": \"hair2\",\n",
        "    \"hair3\": \"hair3\",\n",
        "    \"hair4\": \"hair4\",\n",
        "    \"hair5\": \"hair5\",\n",
        "    \"hair6\": \"hair6\",\n",
        "    \"hair7\": \"hair7\",\n",
        "    \"hair8\": \"hair8\",\n",
        "    \"hair9\": \"hair9\",\n",
        "    \"hair10\": \"hair10\",\n",
        "    \"hair11\": \"hair11\",\n",
        "    \"hair12\": \"hair12\"\n",
        "}\n",
        "\n",
        "mouth_files = {\n",
        "    \"m1\": \"m1\",\n",
        "    \"m2\": \"m2\",\n",
        "    \"m3\": \"m3\",\n",
        "    \"m4\": \"m4\",\n",
        "    \"m5\": \"m5\",\n",
        "    \"m6\": \"m6\"\n",
        "}\n",
        "\n",
        "nose_files = {\n",
        "    \"n1\": \"n1\",\n",
        "    \"n2\": \"n2\"   \n",
        "}"
      ],
      "metadata": {
        "id": "lyK9KgcvqIMM"
      },
      "execution_count": 4,
      "outputs": []
    },
    {
      "cell_type": "markdown",
      "source": [
        "Define the image traits\n",
        "Each image you will create will be a combination of six pictures on top of each other: face, mouth, hair, nose, eyes, ears.\n",
        "Therefore we write a loop that combines these traits into a single picture for a specified total number of pictures.\n",
        "The function creates a dictionary for each picture specifying which traits each possesses."
      ],
      "metadata": {
        "id": "gPAUfoLVqbX4"
      }
    },
    {
      "cell_type": "code",
      "source": [
        "TOTAL_IMAGES=100  #No of random images to be generated\n",
        "all_images=[]\n",
        "\n",
        "#A recurssive function to create unique image combination\n",
        "def create_new_image():\n",
        "  \n",
        "  new_image ={}\n",
        "  # For each trait category, select a random trait based on the weightings \n",
        "  new_image [\"Face\"] = random.choices(face, face_weights)[0]\n",
        "  new_image[\"Ears\"] = random.choices(ears, ears_weights)[0]\n",
        "  new_image[\"Eyes\"] = random.choices(eyes, eyes_weights)[0]\n",
        "  new_image[\"Mouth\"] = random.choices(mouth, mouth_weights)[0]\n",
        "  new_image[\"Hair\"] = random.choices(hair, hair_weights)[0]\n",
        "  new_image[\"Nose\"] = random.choices(nose, nose_weights)[0]\n",
        "\n",
        "  if new_image in all_images:\n",
        "    return create_new_image\n",
        "  else:\n",
        "    return new_image\n",
        "\n",
        "# Generate the unique combinations based on trait weightings\n",
        "\n",
        "for i in range(TOTAL_IMAGES):\n",
        "  new_trait_image = create_new_image\n",
        "  all_images.append(new_trait_image)\n",
        "\n"
      ],
      "metadata": {
        "id": "MGBhydWRy7mf"
      },
      "execution_count": 5,
      "outputs": []
    },
    {
      "cell_type": "markdown",
      "source": [
        "Validate uniqueness\n",
        "It is important with NFT avatar projects that every avatar is unique. Consequently, you will need to check if all images are unique. A simple function is written that loops over all the images and stores them into a list and returns the duplicate images.\n",
        "Next, you add an unique identifier to each image."
      ],
      "metadata": {
        "id": "nM8B_CHs1ziA"
      }
    },
    {
      "cell_type": "code",
      "source": [
        "#Returns to true if all images are unique\n",
        "def all_images_unique(all_images):\n",
        "  seen = list()\n",
        "  return not any(i in seen or seen.append(i) for i in all_images)\n",
        "\n",
        "print(\"Are all images unique?\", all_images_unique(all_images))\n",
        "\n",
        "# Add token Id to each image\n",
        "i = 0\n",
        "for item in all_images:\n",
        "    item[\"tokenId\"] = i\n",
        "    i = i + 1\n",
        "   \n",
        "print(all_images)"
      ],
      "metadata": {
        "colab": {
          "base_uri": "https://localhost:8080/",
          "height": 252
        },
        "id": "6e1QrBn6105M",
        "outputId": "e64ab7bc-5225-4188-8ae2-f17c353cc921"
      },
      "execution_count": 6,
      "outputs": [
        {
          "output_type": "stream",
          "name": "stdout",
          "text": [
            "Are all images unique? False\n"
          ]
        },
        {
          "output_type": "error",
          "ename": "TypeError",
          "evalue": "ignored",
          "traceback": [
            "\u001b[0;31m---------------------------------------------------------------------------\u001b[0m",
            "\u001b[0;31mTypeError\u001b[0m                                 Traceback (most recent call last)",
            "\u001b[0;32m<ipython-input-6-6e0d46f53868>\u001b[0m in \u001b[0;36m<module>\u001b[0;34m()\u001b[0m\n\u001b[1;32m      9\u001b[0m \u001b[0mi\u001b[0m \u001b[0;34m=\u001b[0m \u001b[0;36m0\u001b[0m\u001b[0;34m\u001b[0m\u001b[0;34m\u001b[0m\u001b[0m\n\u001b[1;32m     10\u001b[0m \u001b[0;32mfor\u001b[0m \u001b[0mitem\u001b[0m \u001b[0;32min\u001b[0m \u001b[0mall_images\u001b[0m\u001b[0;34m:\u001b[0m\u001b[0;34m\u001b[0m\u001b[0;34m\u001b[0m\u001b[0m\n\u001b[0;32m---> 11\u001b[0;31m     \u001b[0mitem\u001b[0m\u001b[0;34m[\u001b[0m\u001b[0;34m\"tokenId\"\u001b[0m\u001b[0;34m]\u001b[0m \u001b[0;34m=\u001b[0m \u001b[0mi\u001b[0m\u001b[0;34m\u001b[0m\u001b[0;34m\u001b[0m\u001b[0m\n\u001b[0m\u001b[1;32m     12\u001b[0m     \u001b[0mi\u001b[0m \u001b[0;34m=\u001b[0m \u001b[0mi\u001b[0m \u001b[0;34m+\u001b[0m \u001b[0;36m1\u001b[0m\u001b[0;34m\u001b[0m\u001b[0;34m\u001b[0m\u001b[0m\n\u001b[1;32m     13\u001b[0m \u001b[0;34m\u001b[0m\u001b[0m\n",
            "\u001b[0;31mTypeError\u001b[0m: 'function' object does not support item assignment"
          ]
        }
      ]
    },
    {
      "cell_type": "markdown",
      "source": [
        "Trait Counting\n",
        "You assigned traits based on the predefined weights and the random function. This means that it is unlikely you have exactly 60 white faces even if you have defined the weight of white faces to be 60. To know exactly how much each trait occurs, you have to You will want to keep track of how many traits are now present in your collection of images.\n",
        "To do this, you write the following code:\n",
        "Define a dictionary for each trait with their respective classifications and initiate at 0"
      ],
      "metadata": {
        "id": "GxouyOBC447j"
      }
    },
    {
      "cell_type": "code",
      "source": [
        "face_count = {}\n",
        "for item in face:\n",
        "  face_count[item] = 0\n",
        "\n",
        "  face_count"
      ],
      "metadata": {
        "id": "KZ_BzYkn45bW"
      },
      "execution_count": 7,
      "outputs": []
    },
    {
      "cell_type": "code",
      "source": [
        "#Get traits count\n",
        "face_count = {}\n",
        "for i in face:\n",
        "  face_count[i]=0\n",
        "\n",
        "ears_count = {}\n",
        "for i in ears:\n",
        "  ears_count[i]=0\n",
        "\n",
        "eyes_count = {}\n",
        "for item in eyes:\n",
        "    eyes_count[item] = 0\n",
        "    \n",
        "hair_count = {}\n",
        "for item in hair:\n",
        "    hair_count[item] = 0\n",
        "    \n",
        "mouth_count = {}\n",
        "for item in mouth:\n",
        "    mouth_count[item] = 0\n",
        "    \n",
        "nose_count = {}\n",
        "for item in nose:\n",
        "    nose_count[item] = 0\n",
        "\n",
        "for image in all_images:\n",
        "    face_count[image[\"Face\"]] += 1\n",
        "    ears_count[image[\"Ears\"]] += 1\n",
        "    eyes_count[image[\"Eyes\"]] += 1\n",
        "    hair_count[image[\"Hair\"]] += 1\n",
        "    mouth_count[image[\"Mouth\"]] += 1\n",
        "    nose_count[image[\"Nose\"]] += 1\n",
        "    \n",
        "print(face_count)\n",
        "print(ears_count)\n",
        "print(eyes_count)\n",
        "print(hair_count)\n",
        "print(mouth_count)\n",
        "print(nose_count)"
      ],
      "metadata": {
        "colab": {
          "base_uri": "https://localhost:8080/",
          "height": 234
        },
        "id": "fZetnKuC6xoW",
        "outputId": "32d3eefc-111d-4448-b05c-b95b78c4e578"
      },
      "execution_count": 8,
      "outputs": [
        {
          "output_type": "error",
          "ename": "TypeError",
          "evalue": "ignored",
          "traceback": [
            "\u001b[0;31m---------------------------------------------------------------------------\u001b[0m",
            "\u001b[0;31mTypeError\u001b[0m                                 Traceback (most recent call last)",
            "\u001b[0;32m<ipython-input-8-db6d2f6a85fe>\u001b[0m in \u001b[0;36m<module>\u001b[0;34m()\u001b[0m\n\u001b[1;32m     25\u001b[0m \u001b[0;34m\u001b[0m\u001b[0m\n\u001b[1;32m     26\u001b[0m \u001b[0;32mfor\u001b[0m \u001b[0mimage\u001b[0m \u001b[0;32min\u001b[0m \u001b[0mall_images\u001b[0m\u001b[0;34m:\u001b[0m\u001b[0;34m\u001b[0m\u001b[0;34m\u001b[0m\u001b[0m\n\u001b[0;32m---> 27\u001b[0;31m     \u001b[0mface_count\u001b[0m\u001b[0;34m[\u001b[0m\u001b[0mimage\u001b[0m\u001b[0;34m[\u001b[0m\u001b[0;34m\"Face\"\u001b[0m\u001b[0;34m]\u001b[0m\u001b[0;34m]\u001b[0m \u001b[0;34m+=\u001b[0m \u001b[0;36m1\u001b[0m\u001b[0;34m\u001b[0m\u001b[0;34m\u001b[0m\u001b[0m\n\u001b[0m\u001b[1;32m     28\u001b[0m     \u001b[0mears_count\u001b[0m\u001b[0;34m[\u001b[0m\u001b[0mimage\u001b[0m\u001b[0;34m[\u001b[0m\u001b[0;34m\"Ears\"\u001b[0m\u001b[0;34m]\u001b[0m\u001b[0;34m]\u001b[0m \u001b[0;34m+=\u001b[0m \u001b[0;36m1\u001b[0m\u001b[0;34m\u001b[0m\u001b[0;34m\u001b[0m\u001b[0m\n\u001b[1;32m     29\u001b[0m     \u001b[0meyes_count\u001b[0m\u001b[0;34m[\u001b[0m\u001b[0mimage\u001b[0m\u001b[0;34m[\u001b[0m\u001b[0;34m\"Eyes\"\u001b[0m\u001b[0;34m]\u001b[0m\u001b[0;34m]\u001b[0m \u001b[0;34m+=\u001b[0m \u001b[0;36m1\u001b[0m\u001b[0;34m\u001b[0m\u001b[0;34m\u001b[0m\u001b[0m\n",
            "\u001b[0;31mTypeError\u001b[0m: 'function' object is not subscriptable"
          ]
        }
      ]
    }
  ]
}